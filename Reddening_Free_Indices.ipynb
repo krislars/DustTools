{
  "nbformat": 4,
  "nbformat_minor": 0,
  "metadata": {
    "colab": {
      "provenance": [],
      "authorship_tag": "ABX9TyN5DnnPzKrPMT0DMN3Myff3",
      "include_colab_link": true
    },
    "kernelspec": {
      "name": "python3",
      "display_name": "Python 3"
    },
    "language_info": {
      "name": "python"
    }
  },
  "cells": [
    {
      "cell_type": "markdown",
      "metadata": {
        "id": "view-in-github",
        "colab_type": "text"
      },
      "source": [
        "<a href=\"https://colab.research.google.com/github/krislars/DustTools/blob/main/Reddening_Free_Indices.ipynb\" target=\"_parent\"><img src=\"https://colab.research.google.com/assets/colab-badge.svg\" alt=\"Open In Colab\"/></a>"
      ]
    },
    {
      "cell_type": "markdown",
      "source": [
        "# Reddening-Free Indices\n",
        "\n",
        "Kristen Larson (krislars@gmail.com)\n",
        "\n",
        "updated August 4, 2023"
      ],
      "metadata": {
        "id": "6gBVEXudS07C"
      }
    },
    {
      "cell_type": "markdown",
      "source": [
        "## Introduction"
      ],
      "metadata": {
        "id": "0jpXmy8JJPKq"
      }
    },
    {
      "cell_type": "markdown",
      "source": [
        "Reddening-free indices are pseudomagnitudes that are the same for both reddened and un-reddened sources.  In this demonstration, I will follow the [procedure outlined here (PDF)](http://www.astroscu.unam.mx/rmaa/RMxAC..44/PDF/RMxAC..44_VVV_catelan.pdf); see also references therein, including [Catelan et al (2011)](https://ui.adsabs.harvard.edu/abs/2011rrls.conf..145C/abstract).\n",
        "\n",
        "A reddening-free index can be defined as\n",
        "\n",
        "$$\n",
        "m_x = m_i - \\left(\\frac{A_i/A_V}{A_j/A_V-A_k/A_V}\\right)(m_j-m_k)\n",
        "$$\n",
        "\n",
        "where $j\\neq k$.  Tip for students: Try writing this for a source with extinction and without extinction, then subtract and show that the difference is zero.\n",
        "\n",
        "To show how indices like these can be used to identify globular clusters, I use intrinsic magnitudes from [Chen, Zhao, \\& Zhao (2009)](https://ui.adsabs.harvard.edu/abs/2009ApJ...702.1336C/abstract), \"The Absolute Magnitudes of Red Horizontal Branch Stars in the ugriz System\", chosen primarily for ease of getting the intrinsic magnitudes into this notebook."
      ],
      "metadata": {
        "id": "ZmJkf-_oJGjd"
      }
    },
    {
      "cell_type": "markdown",
      "source": [
        "## Imports and installs"
      ],
      "metadata": {
        "id": "OCBLKN5NJNB7"
      }
    },
    {
      "cell_type": "code",
      "source": [
        "!pip install speclite"
      ],
      "metadata": {
        "colab": {
          "base_uri": "https://localhost:8080/"
        },
        "id": "jxwX72k0-yEA",
        "outputId": "9a5be45f-8dc2-4824-8e96-2420a3631856"
      },
      "execution_count": 39,
      "outputs": [
        {
          "output_type": "stream",
          "name": "stdout",
          "text": [
            "Collecting speclite\n",
            "  Downloading speclite-0.16.tar.gz (892 kB)\n",
            "\u001b[2K     \u001b[90m━━━━━━━━━━━━━━━━━━━━━━━━━━━━━━━━━━━━━━━\u001b[0m \u001b[32m892.3/892.3 kB\u001b[0m \u001b[31m6.5 MB/s\u001b[0m eta \u001b[36m0:00:00\u001b[0m\n",
            "\u001b[?25h  Preparing metadata (setup.py) ... \u001b[?25l\u001b[?25hdone\n",
            "Requirement already satisfied: astropy in /usr/local/lib/python3.10/dist-packages (from speclite) (5.2.2)\n",
            "Requirement already satisfied: scipy in /usr/local/lib/python3.10/dist-packages (from speclite) (1.10.1)\n",
            "Requirement already satisfied: pyyaml in /usr/local/lib/python3.10/dist-packages (from speclite) (6.0.1)\n",
            "Collecting pytest_astropy_header (from speclite)\n",
            "  Downloading pytest_astropy_header-0.2.2-py3-none-any.whl (7.8 kB)\n",
            "Requirement already satisfied: numpy>=1.20 in /usr/local/lib/python3.10/dist-packages (from astropy->speclite) (1.22.4)\n",
            "Requirement already satisfied: pyerfa>=2.0 in /usr/local/lib/python3.10/dist-packages (from astropy->speclite) (2.0.0.3)\n",
            "Requirement already satisfied: packaging>=19.0 in /usr/local/lib/python3.10/dist-packages (from astropy->speclite) (23.1)\n",
            "Requirement already satisfied: pytest>=4.6 in /usr/local/lib/python3.10/dist-packages (from pytest_astropy_header->speclite) (7.2.2)\n",
            "Requirement already satisfied: attrs>=19.2.0 in /usr/local/lib/python3.10/dist-packages (from pytest>=4.6->pytest_astropy_header->speclite) (23.1.0)\n",
            "Requirement already satisfied: iniconfig in /usr/local/lib/python3.10/dist-packages (from pytest>=4.6->pytest_astropy_header->speclite) (2.0.0)\n",
            "Requirement already satisfied: pluggy<2.0,>=0.12 in /usr/local/lib/python3.10/dist-packages (from pytest>=4.6->pytest_astropy_header->speclite) (1.2.0)\n",
            "Requirement already satisfied: exceptiongroup>=1.0.0rc8 in /usr/local/lib/python3.10/dist-packages (from pytest>=4.6->pytest_astropy_header->speclite) (1.1.2)\n",
            "Requirement already satisfied: tomli>=1.0.0 in /usr/local/lib/python3.10/dist-packages (from pytest>=4.6->pytest_astropy_header->speclite) (2.0.1)\n",
            "Building wheels for collected packages: speclite\n",
            "  Building wheel for speclite (setup.py) ... \u001b[?25l\u001b[?25hdone\n",
            "  Created wheel for speclite: filename=speclite-0.16-py3-none-any.whl size=366385 sha256=58da1a7b6e42293a650ac372cdb6c300050a5dd50aed3feb07e317b0f4e6723f\n",
            "  Stored in directory: /root/.cache/pip/wheels/ae/53/1b/757776b1b03808f5563a0facba5402749d6493a3e0d0698b23\n",
            "Successfully built speclite\n",
            "Installing collected packages: pytest_astropy_header, speclite\n",
            "Successfully installed pytest_astropy_header-0.2.2 speclite-0.16\n"
          ]
        }
      ]
    },
    {
      "cell_type": "code",
      "source": [
        "!pip install dust_extinction"
      ],
      "metadata": {
        "colab": {
          "base_uri": "https://localhost:8080/"
        },
        "id": "u6inU1XGLCWQ",
        "outputId": "942e0969-2f5d-484b-8e23-c39c6aec1a55"
      },
      "execution_count": 80,
      "outputs": [
        {
          "output_type": "stream",
          "name": "stdout",
          "text": [
            "Collecting dust_extinction\n",
            "  Downloading dust_extinction-1.2.tar.gz (446 kB)\n",
            "\u001b[?25l     \u001b[90m━━━━━━━━━━━━━━━━━━━━━━━━━━━━━━━━━━━━━━━━\u001b[0m \u001b[32m0.0/447.0 kB\u001b[0m \u001b[31m?\u001b[0m eta \u001b[36m-:--:--\u001b[0m\r\u001b[2K     \u001b[91m━━━━━━━━\u001b[0m\u001b[90m╺\u001b[0m\u001b[90m━━━━━━━━━━━━━━━━━━━━━━━━━━━━━━━\u001b[0m \u001b[32m92.2/447.0 kB\u001b[0m \u001b[31m2.6 MB/s\u001b[0m eta \u001b[36m0:00:01\u001b[0m\r\u001b[2K     \u001b[91m━━━━━━━━━━━━━━━━━━━━━━━━━━━━━━━\u001b[0m\u001b[90m╺\u001b[0m\u001b[90m━━━━━━━\u001b[0m \u001b[32m358.4/447.0 kB\u001b[0m \u001b[31m5.2 MB/s\u001b[0m eta \u001b[36m0:00:01\u001b[0m\r\u001b[2K     \u001b[90m━━━━━━━━━━━━━━━━━━━━━━━━━━━━━━━━━━━━━━━\u001b[0m \u001b[32m447.0/447.0 kB\u001b[0m \u001b[31m4.7 MB/s\u001b[0m eta \u001b[36m0:00:00\u001b[0m\n",
            "\u001b[?25h  Installing build dependencies ... \u001b[?25l\u001b[?25hdone\n",
            "  Getting requirements to build wheel ... \u001b[?25l\u001b[?25hdone\n",
            "  Preparing metadata (pyproject.toml) ... \u001b[?25l\u001b[?25hdone\n",
            "Requirement already satisfied: astropy in /usr/local/lib/python3.10/dist-packages (from dust_extinction) (5.2.2)\n",
            "Requirement already satisfied: scipy in /usr/local/lib/python3.10/dist-packages (from dust_extinction) (1.10.1)\n",
            "Requirement already satisfied: numpy>=1.20 in /usr/local/lib/python3.10/dist-packages (from astropy->dust_extinction) (1.22.4)\n",
            "Requirement already satisfied: pyerfa>=2.0 in /usr/local/lib/python3.10/dist-packages (from astropy->dust_extinction) (2.0.0.3)\n",
            "Requirement already satisfied: PyYAML>=3.13 in /usr/local/lib/python3.10/dist-packages (from astropy->dust_extinction) (6.0.1)\n",
            "Requirement already satisfied: packaging>=19.0 in /usr/local/lib/python3.10/dist-packages (from astropy->dust_extinction) (23.1)\n",
            "Building wheels for collected packages: dust_extinction\n",
            "  Building wheel for dust_extinction (pyproject.toml) ... \u001b[?25l\u001b[?25hdone\n",
            "  Created wheel for dust_extinction: filename=dust_extinction-1.2-py3-none-any.whl size=432578 sha256=274996fe0b3e72d5b6c545ec4b01065c2b6802dfccf46999b3db0a18c196ff88\n",
            "  Stored in directory: /root/.cache/pip/wheels/ff/88/1c/f994a793a0001bf0450f2147c98c28fa6ee2abfa85f3b9cf98\n",
            "Successfully built dust_extinction\n",
            "Installing collected packages: dust_extinction\n",
            "Successfully installed dust_extinction-1.2\n"
          ]
        }
      ]
    },
    {
      "cell_type": "code",
      "execution_count": 81,
      "metadata": {
        "id": "kO16jgvYZ357"
      },
      "outputs": [],
      "source": [
        "import numpy as np\n",
        "import astropy.table as t\n",
        "from speclite import filters as filters\n",
        "from dust_extinction.parameter_averages import F19"
      ]
    },
    {
      "cell_type": "markdown",
      "source": [
        "## Get intrinsic magnitudes"
      ],
      "metadata": {
        "id": "mQck3IeMJCWb"
      }
    },
    {
      "cell_type": "markdown",
      "source": [
        "I am using [Table 2](https://iopscience.iop.org/0004-637X/702/2/1336/suppdata/apj316794t2_ascii.txt?doi=10.1088/0004-637X/702/2/1336) from [Chen, Zhao, \\& Zhao (2009)](https://ui.adsabs.harvard.edu/abs/2009ApJ...702.1336C/abstract) for the intrinsic magnitudes of the horizontal branch, skipping the last two anomalous clusters."
      ],
      "metadata": {
        "id": "2fkp8dWtTkLw"
      }
    },
    {
      "cell_type": "code",
      "source": [
        "hb = t.Table(names=('Cluster', '(g-r)_0', 'sigmagr', 'M_u', 'sigmaM_u', 'M_g',\n",
        "                    'sigmaM_g', 'M_r', 'sigmaM_r', 'M_i', 'sigmaM_i', 'M_z',\n",
        "                    'sigmaM_z', 'M_V', 'M_R', 'M_I'),dtype=('str','float',\n",
        "                    'float','float','float','float','float','float','float',\n",
        "                    'float','float','float','float','float','float','float'))"
      ],
      "metadata": {
        "id": "pz-o2IM0aqkQ"
      },
      "execution_count": 33,
      "outputs": []
    },
    {
      "cell_type": "code",
      "source": [
        "hb.add_row(['Pal 3', 0.25, 0.08, 1.71, 0.25, 0.60, 0.13, 0.28, 0.08, 0.28, 0.08, 0.28, 0.10, 0.40, 0.12, -0.09])\n",
        "hb.add_row(['NGC 7006', 0.31, 0.13, 1.80, 0.15, 0.60, 0.30, 0.37, 0.22, 0.27, 0.26, 0.27, 0.26, 0.45, 0.18, -0.13])\n",
        "hb.add_row(['M3', 0.28, 0.12, 1.80, 0.22, 0.64, 0.21, 0.40, 0.30, 0.31, 0.30, 0.31, 0.32, 0.49, 0.22, -0.09])\n",
        "hb.add_row(['Pal 14', 0.40, 0.12, 1.91, 0.27, 0.77, 0.06, 0.35, 0.15, 0.15, 0.16, 0.07, 0.22, 0.51, 0.14, -0.28])\n",
        "hb.add_row(['Pal 4', 0.40, 0.09, 1.88, 0.35, 0.60, 0.13, 0.20, 0.08, 0.17, 0.08, -0.05, 0.15, 0.36, 0.04, -0.21])\n",
        "hb.add_row(['Pal 5', 0.29, 0.08, 1.71, 0.07, 0.62, 0.24, 0.25, 0.19, 0.25, 0.19, 0.14, 0.27, 0.39, 0.09, -0.12])\n",
        "hb.add_row(['M5', 0.27, 0.15, 1.84, 0.14, 0.67, 0.17, 0.39, 0.17, 0.30,0.20, 0.30, 0.23, 0.50, 0.21, -0.10])"
      ],
      "metadata": {
        "id": "SqYi6KRKav2r"
      },
      "execution_count": 34,
      "outputs": []
    },
    {
      "cell_type": "code",
      "source": [
        "hb"
      ],
      "metadata": {
        "colab": {
          "base_uri": "https://localhost:8080/",
          "height": 229
        },
        "id": "qqijIC5Zavyo",
        "outputId": "2427e5ef-b594-47f5-d509-6620b7354824"
      },
      "execution_count": 35,
      "outputs": [
        {
          "output_type": "execute_result",
          "data": {
            "text/plain": [
              "<Table length=7>\n",
              "Cluster  (g-r)_0 sigmagr   M_u   sigmaM_u ... sigmaM_z   M_V     M_R     M_I  \n",
              "  str8   float64 float64 float64 float64  ... float64  float64 float64 float64\n",
              "-------- ------- ------- ------- -------- ... -------- ------- ------- -------\n",
              "   Pal 3    0.25    0.08    1.71     0.25 ...      0.1     0.4    0.12   -0.09\n",
              "NGC 7006    0.31    0.13     1.8     0.15 ...     0.26    0.45    0.18   -0.13\n",
              "      M3    0.28    0.12     1.8     0.22 ...     0.32    0.49    0.22   -0.09\n",
              "  Pal 14     0.4    0.12    1.91     0.27 ...     0.22    0.51    0.14   -0.28\n",
              "   Pal 4     0.4    0.09    1.88     0.35 ...     0.15    0.36    0.04   -0.21\n",
              "   Pal 5    0.29    0.08    1.71     0.07 ...     0.27    0.39    0.09   -0.12\n",
              "      M5    0.27    0.15    1.84     0.14 ...     0.23     0.5    0.21    -0.1"
            ],
            "text/html": [
              "<div><i>Table length=7</i>\n",
              "<table id=\"table132843741655200\" class=\"table-striped table-bordered table-condensed\">\n",
              "<thead><tr><th>Cluster</th><th>(g-r)_0</th><th>sigmagr</th><th>M_u</th><th>sigmaM_u</th><th>M_g</th><th>sigmaM_g</th><th>M_r</th><th>sigmaM_r</th><th>M_i</th><th>sigmaM_i</th><th>M_z</th><th>sigmaM_z</th><th>M_V</th><th>M_R</th><th>M_I</th></tr></thead>\n",
              "<thead><tr><th>str8</th><th>float64</th><th>float64</th><th>float64</th><th>float64</th><th>float64</th><th>float64</th><th>float64</th><th>float64</th><th>float64</th><th>float64</th><th>float64</th><th>float64</th><th>float64</th><th>float64</th><th>float64</th></tr></thead>\n",
              "<tr><td>Pal 3</td><td>0.25</td><td>0.08</td><td>1.71</td><td>0.25</td><td>0.6</td><td>0.13</td><td>0.28</td><td>0.08</td><td>0.28</td><td>0.08</td><td>0.28</td><td>0.1</td><td>0.4</td><td>0.12</td><td>-0.09</td></tr>\n",
              "<tr><td>NGC 7006</td><td>0.31</td><td>0.13</td><td>1.8</td><td>0.15</td><td>0.6</td><td>0.3</td><td>0.37</td><td>0.22</td><td>0.27</td><td>0.26</td><td>0.27</td><td>0.26</td><td>0.45</td><td>0.18</td><td>-0.13</td></tr>\n",
              "<tr><td>M3</td><td>0.28</td><td>0.12</td><td>1.8</td><td>0.22</td><td>0.64</td><td>0.21</td><td>0.4</td><td>0.3</td><td>0.31</td><td>0.3</td><td>0.31</td><td>0.32</td><td>0.49</td><td>0.22</td><td>-0.09</td></tr>\n",
              "<tr><td>Pal 14</td><td>0.4</td><td>0.12</td><td>1.91</td><td>0.27</td><td>0.77</td><td>0.06</td><td>0.35</td><td>0.15</td><td>0.15</td><td>0.16</td><td>0.07</td><td>0.22</td><td>0.51</td><td>0.14</td><td>-0.28</td></tr>\n",
              "<tr><td>Pal 4</td><td>0.4</td><td>0.09</td><td>1.88</td><td>0.35</td><td>0.6</td><td>0.13</td><td>0.2</td><td>0.08</td><td>0.17</td><td>0.08</td><td>-0.05</td><td>0.15</td><td>0.36</td><td>0.04</td><td>-0.21</td></tr>\n",
              "<tr><td>Pal 5</td><td>0.29</td><td>0.08</td><td>1.71</td><td>0.07</td><td>0.62</td><td>0.24</td><td>0.25</td><td>0.19</td><td>0.25</td><td>0.19</td><td>0.14</td><td>0.27</td><td>0.39</td><td>0.09</td><td>-0.12</td></tr>\n",
              "<tr><td>M5</td><td>0.27</td><td>0.15</td><td>1.84</td><td>0.14</td><td>0.67</td><td>0.17</td><td>0.39</td><td>0.17</td><td>0.3</td><td>0.2</td><td>0.3</td><td>0.23</td><td>0.5</td><td>0.21</td><td>-0.1</td></tr>\n",
              "</table></div>"
            ]
          },
          "metadata": {},
          "execution_count": 35
        }
      ]
    },
    {
      "cell_type": "markdown",
      "source": [
        "I do a simple weighted average over all clusters."
      ],
      "metadata": {
        "id": "ikcB9rYCJT-B"
      }
    },
    {
      "cell_type": "code",
      "source": [
        "m0 = np.array([np.average(hb['M_u'],weights=hb['sigmaM_u']),\n",
        "               np.average(hb['M_g'],weights=hb['sigmaM_g']),\n",
        "               np.average(hb['M_r'],weights=hb['sigmaM_r']),\n",
        "               np.average(hb['M_i'],weights=hb['sigmaM_i']),\n",
        "               np.average(hb['M_z'],weights=hb['sigmaM_z'])])\n",
        "print('M0_band=',m0)"
      ],
      "metadata": {
        "colab": {
          "base_uri": "https://localhost:8080/"
        },
        "id": "7GSyqSfbavvr",
        "outputId": "e35a5e06-bd6b-4530-fa62-db4120d032df"
      },
      "execution_count": 97,
      "outputs": [
        {
          "output_type": "stream",
          "name": "stdout",
          "text": [
            "M0_band= [1.8237931  0.62846774 0.3412605  0.2603937  0.20135484]\n"
          ]
        }
      ]
    },
    {
      "cell_type": "markdown",
      "source": [
        "## Get filter nominal effective wavelengths"
      ],
      "metadata": {
        "id": "4_wM5z8kI9RS"
      }
    },
    {
      "cell_type": "markdown",
      "source": [
        "I am using ``speclite`` to get the effective wavelengths of the DECam filters to look up the extinction law values.  This package can also be useful for getting synthetic photometry of a model spectrum using a spectroscopic extinction law."
      ],
      "metadata": {
        "id": "Oj6xTlXkf2ZF"
      }
    },
    {
      "cell_type": "code",
      "source": [
        "decam = filters.load_filters('decam2014-*')"
      ],
      "metadata": {
        "id": "jINoi-d9-s2H"
      },
      "execution_count": 43,
      "outputs": []
    },
    {
      "cell_type": "code",
      "source": [
        "lam_eff=decam.effective_wavelengths\n",
        "lam_eff"
      ],
      "metadata": {
        "colab": {
          "base_uri": "https://localhost:8080/",
          "height": 38
        },
        "id": "aBvUX_Xe_mQN",
        "outputId": "5bc4e0dd-6653-44a9-ed49-43541b242f01"
      },
      "execution_count": 108,
      "outputs": [
        {
          "output_type": "execute_result",
          "data": {
            "text/plain": [
              "<Quantity [3964.66971417, 4890.03670428, 6469.62203811, 7847.78249813,\n",
              "           9196.46396394, 9892.9684439 ] Angstrom>"
            ],
            "text/latex": "$[3964.6697,~4890.0367,~6469.622,~7847.7825,~9196.464,~9892.9684] \\; \\mathrm{\\mathring{A}}$"
          },
          "metadata": {},
          "execution_count": 108
        }
      ]
    },
    {
      "cell_type": "markdown",
      "source": [
        "## Get extinction curve"
      ],
      "metadata": {
        "id": "4gwp45BbKewI"
      }
    },
    {
      "cell_type": "markdown",
      "source": [
        "The ``dust_extinction`` package has many extinction laws in it. I somewhat arbitrarily choose the Fitzpatrick 2019 extinction law.  Because the intrinsic colors were dereddened with a particular extinction law, there is a circular problem here that probably should be investigated more carefully.\n",
        "\n",
        "Note that simply looking up the extinction at the effective wavelength of a filter passband leads to some complicated uncertainties, espeically for sources at extreme colors.  Better would be to use a spectroscopic extinction law with a model spectrum and then perform synthetic photometry to get the extinction in magnitudes.  "
      ],
      "metadata": {
        "id": "X03IoIsogU4J"
      }
    },
    {
      "cell_type": "code",
      "source": [
        "ext = F19(Rv=3.1)"
      ],
      "metadata": {
        "id": "8OJwDig1Kg9_"
      },
      "execution_count": 82,
      "outputs": []
    },
    {
      "cell_type": "code",
      "source": [
        "ext(lam_eff)"
      ],
      "metadata": {
        "colab": {
          "base_uri": "https://localhost:8080/"
        },
        "id": "rZ6AW8qfLaD-",
        "outputId": "2986de63-30fb-4750-a219-493af7d4267d"
      },
      "execution_count": 107,
      "outputs": [
        {
          "output_type": "execute_result",
          "data": {
            "text/plain": [
              "array([1.44284981, 1.18151869, 0.83262709, 0.62999379, 0.48488961,\n",
              "       0.43959079])"
            ]
          },
          "metadata": {},
          "execution_count": 107
        }
      ]
    },
    {
      "cell_type": "markdown",
      "source": [
        "## Calculate indices"
      ],
      "metadata": {
        "id": "Ne-yoUOzMDsT"
      }
    },
    {
      "cell_type": "markdown",
      "source": [
        "The next question is what filters to choose.  \n",
        "\n",
        "I am only going to consider colors between adjacent passbands for the color term.  Colors across large wavelength ranges will have larger errors in the reddening term.  In other words, I choose colors where $|j-k|$=1.  In the case of $ugriz$, there are 4+3+2+1=10 different colors."
      ],
      "metadata": {
        "id": "C8qwdQIjBRR4"
      }
    },
    {
      "cell_type": "code",
      "source": [
        "bands=('u', 'g', 'r', 'i', 'z')\n",
        "for j in range(5):\n",
        "    for k in range(j+1,5):\n",
        "        print(bands[j],'-',bands[k])"
      ],
      "metadata": {
        "colab": {
          "base_uri": "https://localhost:8080/"
        },
        "id": "BqkgBWeDB8Ct",
        "outputId": "cfe0247f-f240-4fb0-a7a7-fad45548b644"
      },
      "execution_count": 76,
      "outputs": [
        {
          "output_type": "stream",
          "name": "stdout",
          "text": [
            "u - g\n",
            "u - r\n",
            "u - i\n",
            "u - z\n",
            "g - r\n",
            "g - i\n",
            "g - z\n",
            "r - i\n",
            "r - z\n",
            "i - z\n"
          ]
        }
      ]
    },
    {
      "cell_type": "markdown",
      "source": [
        "With this restriction on color, there are 50 different choices for reddening-free indices.  Here we calculate them all."
      ],
      "metadata": {
        "id": "pN9H55BrG_mw"
      }
    },
    {
      "cell_type": "code",
      "source": [
        "mx=t.Table(names=('i','j-k','m_x'),dtype=('str','str','float'))\n",
        "for i in range(5):\n",
        "    for j in range(5):\n",
        "        for k in range(j+1,5):\n",
        "            mx.add_row([bands[i],bands[j]+'-'+bands[k],\n",
        "                        np.round(m0[i]-(ext(lam_eff[i])/(ext(lam_eff[j])-ext(lam_eff[k])))*(m0[j]-m0[k]),3)])\n",
        "mx.pprint(max_lines=100)"
      ],
      "metadata": {
        "colab": {
          "base_uri": "https://localhost:8080/"
        },
        "id": "1FIxD_u2MOP0",
        "outputId": "3486e530-74f4-4d94-d76a-faf16ae39397"
      },
      "execution_count": 95,
      "outputs": [
        {
          "output_type": "stream",
          "name": "stdout",
          "text": [
            " i  j-k  m_x  \n",
            "--- --- ------\n",
            "  u u-g -4.776\n",
            "  u u-r -1.682\n",
            "  u u-i -0.951\n",
            "  u u-z  -0.62\n",
            "  u g-r  0.636\n",
            "  u g-i  0.861\n",
            "  u g-z  0.939\n",
            "  u r-i  1.248\n",
            "  u r-z  1.243\n",
            "  u i-z  1.237\n",
            "  g u-g -4.776\n",
            "  g u-r -2.242\n",
            "  g u-i -1.644\n",
            "  g u-z -1.373\n",
            "  g g-r -0.344\n",
            "  g g-i  -0.16\n",
            "  g g-z -0.096\n",
            "  g r-i  0.157\n",
            "  g r-z  0.153\n",
            "  g i-z  0.148\n",
            "  r u-g -3.467\n",
            "  r u-r -1.682\n",
            "  r u-i  -1.26\n",
            "  r u-z -1.069\n",
            "  r g-r -0.344\n",
            "  r g-i -0.214\n",
            "  r g-z -0.169\n",
            "  r r-i  0.009\n",
            "  r r-z  0.006\n",
            "  r i-z  0.002\n",
            "  i u-g -2.621\n",
            "  i u-r  -1.27\n",
            "  i u-i -0.951\n",
            "  i u-z -0.807\n",
            "  i g-r -0.258\n",
            "  i g-i  -0.16\n",
            "  i g-z -0.126\n",
            "  i r-i  0.009\n",
            "  i r-z  0.007\n",
            "  i i-z  0.004\n",
            "  z u-g -2.017\n",
            "  z u-r -0.977\n",
            "  z u-i -0.731\n",
            "  z u-z  -0.62\n",
            "  z g-r -0.198\n",
            "  z g-i -0.122\n",
            "  z g-z -0.096\n",
            "  z r-i  0.008\n",
            "  z r-z  0.006\n",
            "  z i-z  0.004\n"
          ]
        }
      ]
    },
    {
      "cell_type": "markdown",
      "source": [
        "The next obvious step is a more careful accounting of uncertainty.\n",
        "\n",
        "One way to check these indices would be to calculate them for these same clusters before extinction corrections were applied to see if the values come out the same.  In other words, check to make sure they are indeed reddening free."
      ],
      "metadata": {
        "id": "4mZevVWehCLT"
      }
    },
    {
      "cell_type": "code",
      "source": [],
      "metadata": {
        "id": "vZmygK2riG6s"
      },
      "execution_count": null,
      "outputs": []
    }
  ]
}