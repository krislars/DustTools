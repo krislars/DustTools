{
  "nbformat": 4,
  "nbformat_minor": 0,
  "metadata": {
    "colab": {
      "provenance": [],
      "toc_visible": true,
      "authorship_tag": "ABX9TyMHLi0BIBqL8l1i8H2jyX/t",
      "include_colab_link": true
    },
    "kernelspec": {
      "name": "python3",
      "display_name": "Python 3"
    },
    "language_info": {
      "name": "python"
    },
    "widgets": {
      "application/vnd.jupyter.widget-state+json": {
        "79170b7339ae446d81bf520de675c8b9": {
          "model_module": "@jupyter-widgets/controls",
          "model_name": "VBoxModel",
          "model_module_version": "1.5.0",
          "state": {
            "_dom_classes": [
              "widget-interact"
            ],
            "_model_module": "@jupyter-widgets/controls",
            "_model_module_version": "1.5.0",
            "_model_name": "VBoxModel",
            "_view_count": null,
            "_view_module": "@jupyter-widgets/controls",
            "_view_module_version": "1.5.0",
            "_view_name": "VBoxView",
            "box_style": "",
            "children": [
              "IPY_MODEL_4dda1aa4a0ad4546bb3f340cf50e6d43",
              "IPY_MODEL_0605f123002e4e31b5e86079916cd91b"
            ],
            "layout": "IPY_MODEL_e525a935cd1d43c681e1e96cace931f8"
          }
        },
        "4dda1aa4a0ad4546bb3f340cf50e6d43": {
          "model_module": "@jupyter-widgets/controls",
          "model_name": "IntSliderModel",
          "model_module_version": "1.5.0",
          "state": {
            "_dom_classes": [],
            "_model_module": "@jupyter-widgets/controls",
            "_model_module_version": "1.5.0",
            "_model_name": "IntSliderModel",
            "_view_count": null,
            "_view_module": "@jupyter-widgets/controls",
            "_view_module_version": "1.5.0",
            "_view_name": "IntSliderView",
            "continuous_update": true,
            "description": "d",
            "description_tooltip": null,
            "disabled": false,
            "layout": "IPY_MODEL_dfa6f630bd2b459083dd0e096e81193b",
            "max": 1000,
            "min": 50,
            "orientation": "horizontal",
            "readout": true,
            "readout_format": "d",
            "step": 10,
            "style": "IPY_MODEL_9a6c936cf32c477abfada1f45a0684dc",
            "value": 1000
          }
        },
        "0605f123002e4e31b5e86079916cd91b": {
          "model_module": "@jupyter-widgets/output",
          "model_name": "OutputModel",
          "model_module_version": "1.0.0",
          "state": {
            "_dom_classes": [],
            "_model_module": "@jupyter-widgets/output",
            "_model_module_version": "1.0.0",
            "_model_name": "OutputModel",
            "_view_count": null,
            "_view_module": "@jupyter-widgets/output",
            "_view_module_version": "1.0.0",
            "_view_name": "OutputView",
            "layout": "IPY_MODEL_c22fba2bdf324cf18fc0e13b974d5097",
            "msg_id": "",
            "outputs": [
              {
                "output_type": "display_data",
                "data": {
                  "text/plain": "<Figure size 640x480 with 2 Axes>",
                  "image/png": "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\n"
                },
                "metadata": {}
              }
            ]
          }
        },
        "e525a935cd1d43c681e1e96cace931f8": {
          "model_module": "@jupyter-widgets/base",
          "model_name": "LayoutModel",
          "model_module_version": "1.2.0",
          "state": {
            "_model_module": "@jupyter-widgets/base",
            "_model_module_version": "1.2.0",
            "_model_name": "LayoutModel",
            "_view_count": null,
            "_view_module": "@jupyter-widgets/base",
            "_view_module_version": "1.2.0",
            "_view_name": "LayoutView",
            "align_content": null,
            "align_items": null,
            "align_self": null,
            "border": null,
            "bottom": null,
            "display": null,
            "flex": null,
            "flex_flow": null,
            "grid_area": null,
            "grid_auto_columns": null,
            "grid_auto_flow": null,
            "grid_auto_rows": null,
            "grid_column": null,
            "grid_gap": null,
            "grid_row": null,
            "grid_template_areas": null,
            "grid_template_columns": null,
            "grid_template_rows": null,
            "height": null,
            "justify_content": null,
            "justify_items": null,
            "left": null,
            "margin": null,
            "max_height": null,
            "max_width": null,
            "min_height": null,
            "min_width": null,
            "object_fit": null,
            "object_position": null,
            "order": null,
            "overflow": null,
            "overflow_x": null,
            "overflow_y": null,
            "padding": null,
            "right": null,
            "top": null,
            "visibility": null,
            "width": null
          }
        },
        "dfa6f630bd2b459083dd0e096e81193b": {
          "model_module": "@jupyter-widgets/base",
          "model_name": "LayoutModel",
          "model_module_version": "1.2.0",
          "state": {
            "_model_module": "@jupyter-widgets/base",
            "_model_module_version": "1.2.0",
            "_model_name": "LayoutModel",
            "_view_count": null,
            "_view_module": "@jupyter-widgets/base",
            "_view_module_version": "1.2.0",
            "_view_name": "LayoutView",
            "align_content": null,
            "align_items": null,
            "align_self": null,
            "border": null,
            "bottom": null,
            "display": null,
            "flex": null,
            "flex_flow": null,
            "grid_area": null,
            "grid_auto_columns": null,
            "grid_auto_flow": null,
            "grid_auto_rows": null,
            "grid_column": null,
            "grid_gap": null,
            "grid_row": null,
            "grid_template_areas": null,
            "grid_template_columns": null,
            "grid_template_rows": null,
            "height": null,
            "justify_content": null,
            "justify_items": null,
            "left": null,
            "margin": null,
            "max_height": null,
            "max_width": null,
            "min_height": null,
            "min_width": null,
            "object_fit": null,
            "object_position": null,
            "order": null,
            "overflow": null,
            "overflow_x": null,
            "overflow_y": null,
            "padding": null,
            "right": null,
            "top": null,
            "visibility": null,
            "width": null
          }
        },
        "9a6c936cf32c477abfada1f45a0684dc": {
          "model_module": "@jupyter-widgets/controls",
          "model_name": "SliderStyleModel",
          "model_module_version": "1.5.0",
          "state": {
            "_model_module": "@jupyter-widgets/controls",
            "_model_module_version": "1.5.0",
            "_model_name": "SliderStyleModel",
            "_view_count": null,
            "_view_module": "@jupyter-widgets/base",
            "_view_module_version": "1.2.0",
            "_view_name": "StyleView",
            "description_width": "",
            "handle_color": null
          }
        },
        "c22fba2bdf324cf18fc0e13b974d5097": {
          "model_module": "@jupyter-widgets/base",
          "model_name": "LayoutModel",
          "model_module_version": "1.2.0",
          "state": {
            "_model_module": "@jupyter-widgets/base",
            "_model_module_version": "1.2.0",
            "_model_name": "LayoutModel",
            "_view_count": null,
            "_view_module": "@jupyter-widgets/base",
            "_view_module_version": "1.2.0",
            "_view_name": "LayoutView",
            "align_content": null,
            "align_items": null,
            "align_self": null,
            "border": null,
            "bottom": null,
            "display": null,
            "flex": null,
            "flex_flow": null,
            "grid_area": null,
            "grid_auto_columns": null,
            "grid_auto_flow": null,
            "grid_auto_rows": null,
            "grid_column": null,
            "grid_gap": null,
            "grid_row": null,
            "grid_template_areas": null,
            "grid_template_columns": null,
            "grid_template_rows": null,
            "height": null,
            "justify_content": null,
            "justify_items": null,
            "left": null,
            "margin": null,
            "max_height": null,
            "max_width": null,
            "min_height": null,
            "min_width": null,
            "object_fit": null,
            "object_position": null,
            "order": null,
            "overflow": null,
            "overflow_x": null,
            "overflow_y": null,
            "padding": null,
            "right": null,
            "top": null,
            "visibility": null,
            "width": null
          }
        }
      }
    }
  },
  "cells": [
    {
      "cell_type": "markdown",
      "metadata": {
        "id": "view-in-github",
        "colab_type": "text"
      },
      "source": [
        "<a href=\"https://colab.research.google.com/github/krislars/DustTools/blob/main/Example_Green19_3D_Dust_Maps.ipynb\" target=\"_parent\"><img src=\"https://colab.research.google.com/assets/colab-badge.svg\" alt=\"Open In Colab\"/></a>"
      ]
    },
    {
      "cell_type": "markdown",
      "source": [
        "This notebook demonstrates how to get the Green et al. (2019) extinction values and maps around a specific source without hardcoding in the source coordinates.\n",
        "\n",
        "Kristen Larson (krislars@gmail.com), Oct 2023"
      ],
      "metadata": {
        "id": "Dy0fXKJ9-U_W"
      }
    },
    {
      "cell_type": "markdown",
      "metadata": {
        "id": "lSG-7mUho4Rg"
      },
      "source": [
        "## References"
      ]
    },
    {
      "cell_type": "markdown",
      "metadata": {
        "id": "LaYDT7FoiQdh"
      },
      "source": [
        "Green et al. (2019, etc)\n",
        "\n",
        "*A 3D Dust Map Based on Gaia, Pan-STARRS 1, and 2MASS*\n",
        "\n",
        "Paper: https://ui.adsabs.harvard.edu/abs/2019ApJ...887...93G/abstract\n",
        "\n",
        "Code: https://dustmaps.readthedocs.io/\n",
        "\n",
        "\n"
      ]
    },
    {
      "cell_type": "markdown",
      "metadata": {
        "id": "bg_0T-PopAH0"
      },
      "source": [
        "## Installs and Imports"
      ]
    },
    {
      "cell_type": "code",
      "metadata": {
        "colab": {
          "base_uri": "https://localhost:8080/"
        },
        "id": "mwxHBAY4i4cY",
        "outputId": "5f4b027d-f843-46ad-9ac0-9379c1e57f49"
      },
      "source": [
        "!pip install dustmaps"
      ],
      "execution_count": null,
      "outputs": [
        {
          "output_type": "stream",
          "name": "stdout",
          "text": [
            "Collecting dustmaps\n",
            "  Downloading dustmaps-1.0.12-py3-none-any.whl (458 kB)\n",
            "\u001b[2K     \u001b[90m━━━━━━━━━━━━━━━━━━━━━━━━━━━━━━━━━━━━━━━\u001b[0m \u001b[32m458.9/458.9 kB\u001b[0m \u001b[31m4.4 MB/s\u001b[0m eta \u001b[36m0:00:00\u001b[0m\n",
            "\u001b[?25hRequirement already satisfied: numpy in /usr/local/lib/python3.10/dist-packages (from dustmaps) (1.23.5)\n",
            "Requirement already satisfied: scipy in /usr/local/lib/python3.10/dist-packages (from dustmaps) (1.11.3)\n",
            "Requirement already satisfied: astropy in /usr/local/lib/python3.10/dist-packages (from dustmaps) (5.3.4)\n",
            "Requirement already satisfied: h5py in /usr/local/lib/python3.10/dist-packages (from dustmaps) (3.9.0)\n",
            "Collecting healpy (from dustmaps)\n",
            "  Downloading healpy-1.16.6-cp310-cp310-manylinux_2_17_x86_64.manylinux2014_x86_64.whl (24.5 MB)\n",
            "\u001b[2K     \u001b[90m━━━━━━━━━━━━━━━━━━━━━━━━━━━━━━━━━━━━━━━━\u001b[0m \u001b[32m24.5/24.5 MB\u001b[0m \u001b[31m32.6 MB/s\u001b[0m eta \u001b[36m0:00:00\u001b[0m\n",
            "\u001b[?25hRequirement already satisfied: requests in /usr/local/lib/python3.10/dist-packages (from dustmaps) (2.31.0)\n",
            "Requirement already satisfied: progressbar2 in /usr/local/lib/python3.10/dist-packages (from dustmaps) (4.2.0)\n",
            "Requirement already satisfied: six in /usr/local/lib/python3.10/dist-packages (from dustmaps) (1.16.0)\n",
            "Requirement already satisfied: pyerfa>=2.0 in /usr/local/lib/python3.10/dist-packages (from astropy->dustmaps) (2.0.0.3)\n",
            "Requirement already satisfied: PyYAML>=3.13 in /usr/local/lib/python3.10/dist-packages (from astropy->dustmaps) (6.0.1)\n",
            "Requirement already satisfied: packaging>=19.0 in /usr/local/lib/python3.10/dist-packages (from astropy->dustmaps) (23.2)\n",
            "Requirement already satisfied: matplotlib in /usr/local/lib/python3.10/dist-packages (from healpy->dustmaps) (3.7.1)\n",
            "Requirement already satisfied: python-utils>=3.0.0 in /usr/local/lib/python3.10/dist-packages (from progressbar2->dustmaps) (3.8.1)\n",
            "Requirement already satisfied: charset-normalizer<4,>=2 in /usr/local/lib/python3.10/dist-packages (from requests->dustmaps) (3.3.0)\n",
            "Requirement already satisfied: idna<4,>=2.5 in /usr/local/lib/python3.10/dist-packages (from requests->dustmaps) (3.4)\n",
            "Requirement already satisfied: urllib3<3,>=1.21.1 in /usr/local/lib/python3.10/dist-packages (from requests->dustmaps) (2.0.6)\n",
            "Requirement already satisfied: certifi>=2017.4.17 in /usr/local/lib/python3.10/dist-packages (from requests->dustmaps) (2023.7.22)\n",
            "Requirement already satisfied: typing-extensions>3.10.0.2 in /usr/local/lib/python3.10/dist-packages (from python-utils>=3.0.0->progressbar2->dustmaps) (4.5.0)\n",
            "Requirement already satisfied: contourpy>=1.0.1 in /usr/local/lib/python3.10/dist-packages (from matplotlib->healpy->dustmaps) (1.1.1)\n",
            "Requirement already satisfied: cycler>=0.10 in /usr/local/lib/python3.10/dist-packages (from matplotlib->healpy->dustmaps) (0.12.0)\n",
            "Requirement already satisfied: fonttools>=4.22.0 in /usr/local/lib/python3.10/dist-packages (from matplotlib->healpy->dustmaps) (4.43.0)\n",
            "Requirement already satisfied: kiwisolver>=1.0.1 in /usr/local/lib/python3.10/dist-packages (from matplotlib->healpy->dustmaps) (1.4.5)\n",
            "Requirement already satisfied: pillow>=6.2.0 in /usr/local/lib/python3.10/dist-packages (from matplotlib->healpy->dustmaps) (9.4.0)\n",
            "Requirement already satisfied: pyparsing>=2.3.1 in /usr/local/lib/python3.10/dist-packages (from matplotlib->healpy->dustmaps) (3.1.1)\n",
            "Requirement already satisfied: python-dateutil>=2.7 in /usr/local/lib/python3.10/dist-packages (from matplotlib->healpy->dustmaps) (2.8.2)\n",
            "Installing collected packages: healpy, dustmaps\n",
            "Successfully installed dustmaps-1.0.12 healpy-1.16.6\n"
          ]
        }
      ]
    },
    {
      "cell_type": "code",
      "metadata": {
        "id": "OTPXBcHyixnZ"
      },
      "source": [
        "from astropy.coordinates import SkyCoord\n",
        "from astropy import units as u\n",
        "from dustmaps.sfd import SFDWebQuery\n",
        "from dustmaps.bayestar import BayestarWebQuery\n",
        "from ipywidgets import interactive\n",
        "from matplotlib import pyplot as plt\n",
        "import numpy as np\n",
        "import warnings\n",
        "warnings.filterwarnings('ignore')"
      ],
      "execution_count": 78,
      "outputs": []
    },
    {
      "cell_type": "markdown",
      "metadata": {
        "id": "zq1hYHzk5wDT"
      },
      "source": [
        "## Example: T Tau"
      ]
    },
    {
      "cell_type": "markdown",
      "metadata": {
        "id": "NfBjvE7CpKeZ"
      },
      "source": [
        "### Select source"
      ]
    },
    {
      "cell_type": "markdown",
      "source": [
        "Astropy coordinates package will get the source coordinates from a name lookup."
      ],
      "metadata": {
        "id": "VnmJtiPHDfmI"
      }
    },
    {
      "cell_type": "code",
      "metadata": {
        "id": "clZc7NX5iJZf",
        "colab": {
          "base_uri": "https://localhost:8080/"
        },
        "outputId": "355926af-83e0-4e2e-8608-be08f489d62d"
      },
      "source": [
        "name = 'T Tau'\n",
        "c = SkyCoord.from_name(name)\n",
        "c"
      ],
      "execution_count": null,
      "outputs": [
        {
          "output_type": "execute_result",
          "data": {
            "text/plain": [
              "<SkyCoord (ICRS): (ra, dec) in deg\n",
              "    (65.49763328, 19.53512011)>"
            ]
          },
          "metadata": {},
          "execution_count": 35
        }
      ]
    },
    {
      "cell_type": "markdown",
      "metadata": {
        "id": "-fyTwE2d5kKd"
      },
      "source": [
        "### Get SFD98 values (historical)"
      ]
    },
    {
      "cell_type": "markdown",
      "source": [
        "The SFD reddening map was the gold standard for well over a decade.  You can get these"
      ],
      "metadata": {
        "id": "Wwt3NNZpFzP5"
      }
    },
    {
      "cell_type": "code",
      "metadata": {
        "colab": {
          "base_uri": "https://localhost:8080/"
        },
        "id": "uuDP55FLszjM",
        "outputId": "ae5ac20b-6d0d-4b1c-f32f-58582912f5f3"
      },
      "source": [
        "sfd = SFDWebQuery()\n",
        "print('SFD98 E(B-V) = ',np.round(sfd(c),2))"
      ],
      "execution_count": null,
      "outputs": [
        {
          "output_type": "stream",
          "name": "stdout",
          "text": [
            "SFD98 E(B-V) =  0.6\n"
          ]
        }
      ]
    },
    {
      "cell_type": "markdown",
      "metadata": {
        "id": "kCNoCJxG74F8"
      },
      "source": [
        "### Get Green+19 values"
      ]
    },
    {
      "cell_type": "markdown",
      "metadata": {
        "id": "ghN9EaIT735D"
      },
      "source": [
        "From their paper: \"Bayestar19 reports reddening in an arbitrary unit that can be converted to extinction in different bands using the coefficients given in Table 1 of Green, Schlafly, Finkbeiner et al. (2019).\"\n",
        "\n",
        "![apjab5362t1_lr.gif](data:image/gif;base64,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)\n",
        "\n"
      ]
    },
    {
      "cell_type": "code",
      "metadata": {
        "id": "aKZUNH9eUErq"
      },
      "source": [
        "Rg = 3.518\n",
        "RJ = 0.7927"
      ],
      "execution_count": null,
      "outputs": []
    },
    {
      "cell_type": "markdown",
      "source": [
        "The distance in the cell below should be near, or at least beyond, the source in question.  We will show, in a subsequent cell, how an incorrect distance (such as this one!) can cause the extinction to be overestimated or underestimated.  Green+19 maps are a probabilistic sampling, so the mode specifies what to return from the sampling."
      ],
      "metadata": {
        "id": "c1Ztbs4PH44k"
      }
    },
    {
      "cell_type": "code",
      "metadata": {
        "colab": {
          "base_uri": "https://localhost:8080/"
        },
        "id": "0WWKAZvxM9KY",
        "outputId": "d49ebd77-da0d-44ee-dcb5-94cc948e4feb"
      },
      "source": [
        "# If NaN, then not in the Green+ footprint\n",
        "coords = SkyCoord(c.ra, c.dec, distance=1*u.kpc, frame='icrs')\n",
        "green = BayestarWebQuery(version='bayestar2019')\n",
        "print('Green19 A(g) = ',np.round(Rg*green(coords, mode='median'),2))\n",
        "print('Green19 A(J) = ',np.round(RJ*green(coords, mode='median'),2))"
      ],
      "execution_count": null,
      "outputs": [
        {
          "output_type": "stream",
          "name": "stdout",
          "text": [
            "Green19 A(g) =  3.59\n",
            "Green19 A(J) =  0.81\n"
          ]
        }
      ]
    },
    {
      "cell_type": "markdown",
      "source": [
        "### Investigate Line of Sight"
      ],
      "metadata": {
        "id": "BYzoibYSLMU4"
      }
    },
    {
      "cell_type": "markdown",
      "source": [
        "We can get extinction at a range of distances to investigate the foreground cloud structure and ultimate distance limit of the Green+19 maps."
      ],
      "metadata": {
        "id": "au7cXinvIgQe"
      }
    },
    {
      "cell_type": "code",
      "metadata": {
        "id": "PRBU_0AGk-WM"
      },
      "source": [
        "dist = np.arange(50,1000,10)*u.pc\n",
        "coords = SkyCoord(c.ra, c.dec, distance=dist, frame='icrs')\n",
        "green = BayestarWebQuery(version='bayestar2019')\n",
        "E19 = green(coords, mode='median')"
      ],
      "execution_count": null,
      "outputs": []
    },
    {
      "cell_type": "code",
      "metadata": {
        "colab": {
          "base_uri": "https://localhost:8080/",
          "height": 472
        },
        "id": "vhG8m66elkvL",
        "outputId": "2b89e6e3-3aa5-42aa-beaf-e0da3b63f938"
      },
      "source": [
        "plt.plot(dist,Rg*E19,label='Green19 map')\n",
        "plt.xlabel('distance (pc)')\n",
        "plt.ylabel('A(g)')\n",
        "plt.title(name)\n",
        "plt.grid(True)\n",
        "plt.legend()\n",
        "plt.show()"
      ],
      "execution_count": null,
      "outputs": [
        {
          "output_type": "display_data",
          "data": {
            "text/plain": [
              "<Figure size 640x480 with 1 Axes>"
            ],
            "image/png": "[encoded data removed]"
          },
          "metadata": {}
        }
      ]
    },
    {
      "cell_type": "markdown",
      "source": [
        "Cloud location leads to a step increase in extinction at that distance.  Notice that in this case, it looks as if there is a cloud at 150 pc and 500 pc.\n",
        "\n",
        "T Tau is very nearby, roughly 145 pc, so our initial calculation is an overestimate.  Let's re-run with a better distance value."
      ],
      "metadata": {
        "id": "tS7eKu0YLZU8"
      }
    },
    {
      "cell_type": "code",
      "source": [
        "coords = SkyCoord(c.ra, c.dec, distance=145*u.pc, frame='icrs')\n",
        "green = BayestarWebQuery(version='bayestar2019')\n",
        "print('Green19 A(g) = ',np.round(Rg*green(coords, mode='median'),2))"
      ],
      "metadata": {
        "colab": {
          "base_uri": "https://localhost:8080/"
        },
        "id": "frE6QaERMfp_",
        "outputId": "9198b68a-d40c-4ed5-9a1d-692b77c7ae33"
      },
      "execution_count": null,
      "outputs": [
        {
          "output_type": "stream",
          "name": "stdout",
          "text": [
            "Green19 A(g) =  0.02\n"
          ]
        }
      ]
    },
    {
      "cell_type": "markdown",
      "source": [
        "That's more like it.  There is very little interstellar extinction in the foreground of T Tau."
      ],
      "metadata": {
        "id": "iWKxjrf4aI_3"
      }
    },
    {
      "cell_type": "markdown",
      "source": [
        "Notice, too, that the Green+19 map saturates at long distance because of the lack of stars in the dataset at those distances."
      ],
      "metadata": {
        "id": "YejYvyKga8LK"
      }
    },
    {
      "cell_type": "code",
      "source": [
        "dist = np.arange(0.050,3,0.010)*u.kpc\n",
        "coords = SkyCoord(c.ra, c.dec, distance=dist, frame='icrs')\n",
        "green = BayestarWebQuery(version='bayestar2019')\n",
        "E19 = green(coords, mode='median')\n",
        "plt.plot(dist,Rg*E19,label='Green19 map')\n",
        "plt.xlabel('distance (kpc)')\n",
        "plt.ylabel('A(g)')\n",
        "plt.title(name)\n",
        "plt.grid(True)\n",
        "plt.legend()\n",
        "plt.show()"
      ],
      "metadata": {
        "colab": {
          "base_uri": "https://localhost:8080/",
          "height": 472
        },
        "id": "lTL6B0WAbIA0",
        "outputId": "dc9ff99c-4c21-4a01-e20f-15ec4dd01528"
      },
      "execution_count": null,
      "outputs": [
        {
          "output_type": "display_data",
          "data": {
            "text/plain": [
              "<Figure size 640x480 with 1 Axes>"
            ],
            "image/png": "[encoded data removed]"
          },
          "metadata": {}
        }
      ]
    },
    {
      "cell_type": "markdown",
      "source": [
        "### Extinction maps"
      ],
      "metadata": {
        "id": "Ut7S7Tp4aQ42"
      }
    },
    {
      "cell_type": "markdown",
      "source": [
        "Choose a distance and extent for the extinction map."
      ],
      "metadata": {
        "id": "wPB-CZruaVAS"
      }
    },
    {
      "cell_type": "code",
      "source": [
        "range = 0.5 # in deg\n",
        "dist = 145 * u.pc"
      ],
      "metadata": {
        "id": "7UMxNz-oDa0p"
      },
      "execution_count": null,
      "outputs": []
    },
    {
      "cell_type": "code",
      "metadata": {
        "id": "s9mdlkuXSdzV"
      },
      "source": [
        "ra_arr = np.arange(c.ra.deg-range,c.ra.deg+range,0.01) * u.deg\n",
        "dec_arr = np.arange(c.dec.deg-range,c.dec.deg+range,0.01) * u.deg\n",
        "ragrid,decgrid = np.meshgrid(ra_arr,dec_arr)"
      ],
      "execution_count": null,
      "outputs": []
    },
    {
      "cell_type": "code",
      "metadata": {
        "id": "khNeAHS0S1Rk"
      },
      "source": [
        "coords = SkyCoord(ragrid, decgrid, distance=dist)\n",
        "E19_map = green(coords, mode='median')"
      ],
      "execution_count": null,
      "outputs": []
    },
    {
      "cell_type": "code",
      "metadata": {
        "colab": {
          "base_uri": "https://localhost:8080/",
          "height": 472
        },
        "id": "Glw2EEYaT4Uu",
        "outputId": "e0a9e0ef-fe10-4af0-c3c2-57fba6157524"
      },
      "source": [
        "plt.imshow(E19_map*Rg, origin='lower', vmin=0, aspect='auto',\n",
        "           extent = [ra_arr.value.min(), ra_arr.value.max(),\n",
        "                     dec_arr.value.min(), dec_arr.value.max()])\n",
        "plt.colorbar(label='A(g)')\n",
        "plt.xlabel('RA')\n",
        "plt.ylabel('Dec')\n",
        "plt.title(name)\n",
        "plt.show()"
      ],
      "execution_count": 83,
      "outputs": [
        {
          "output_type": "display_data",
          "data": {
            "text/plain": [
              "<Figure size 640x480 with 2 Axes>"
            ],
            "image/png": "[encoded data removed]"
          },
          "metadata": {}
        }
      ]
    },
    {
      "cell_type": "markdown",
      "source": [
        "Here is the same plot over a range of distances."
      ],
      "metadata": {
        "id": "8qwgM9hKoZCt"
      }
    },
    {
      "cell_type": "code",
      "source": [
        "def f(d):\n",
        "    coords = SkyCoord(ragrid, decgrid, distance=d*u.pc)\n",
        "    E19_map = green(coords, mode='median')\n",
        "    plt.imshow(E19_map*Rg, origin='lower', vmin=0, vmax=3.5, aspect='auto',\n",
        "           extent = [ra_arr.value.min(), ra_arr.value.max(),\n",
        "                     dec_arr.value.min(), dec_arr.value.max()])\n",
        "    plt.colorbar(label='A(g)')\n",
        "    plt.xlabel('RA')\n",
        "    plt.ylabel('Dec')\n",
        "    plt.title(name)\n",
        "    plt.show()\n",
        "\n",
        "interactive_plot = interactive(f, d=(50,1000,10))\n",
        "interactive_plot"
      ],
      "metadata": {
        "colab": {
          "base_uri": "https://localhost:8080/",
          "height": 504,
          "referenced_widgets": [
            "79170b7339ae446d81bf520de675c8b9",
            "4dda1aa4a0ad4546bb3f340cf50e6d43",
            "0605f123002e4e31b5e86079916cd91b",
            "e525a935cd1d43c681e1e96cace931f8",
            "dfa6f630bd2b459083dd0e096e81193b",
            "9a6c936cf32c477abfada1f45a0684dc",
            "c22fba2bdf324cf18fc0e13b974d5097"
          ]
        },
        "id": "4bSQqXI5nOw3",
        "outputId": "818ec197-3bb0-4ba8-b35c-d5e0800dc41a"
      },
      "execution_count": 84,
      "outputs": [
        {
          "output_type": "display_data",
          "data": {
            "text/plain": [
              "interactive(children=(IntSlider(value=520, description='d', max=1000, min=50, step=10), Output()), _dom_classe…"
            ],
            "application/vnd.jupyter.widget-view+json": {
              "version_major": 2,
              "version_minor": 0,
              "model_id": "79170b7339ae446d81bf520de675c8b9"
            }
          },
          "metadata": {}
        }
      ]
    },
    {
      "cell_type": "code",
      "source": [],
      "metadata": {
        "id": "WHXDk716n9mL"
      },
      "execution_count": null,
      "outputs": []
    }
  ]
}
